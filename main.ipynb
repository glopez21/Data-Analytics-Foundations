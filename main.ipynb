{
  "nbformat": 4,
  "nbformat_minor": 0,
  "metadata": {
    "kernelspec": {
      "name": "python36",
      "display_name": "Python 3.6",
      "language": "python"
    },
    "language_info": {
      "mimetype": "text/x-python",
      "nbconvert_exporter": "python",
      "name": "python",
      "pygments_lexer": "ipython3",
      "version": "3.6.6",
      "file_extension": ".py",
      "codemirror_mode": {
        "version": 3,
        "name": "ipython"
      }
    },
    "colab": {
      "provenance": [],
      "collapsed_sections": [],
      "include_colab_link": true
    }
  },
  "cells": [
    {
      "cell_type": "markdown",
      "metadata": {
        "id": "view-in-github",
        "colab_type": "text"
      },
      "source": [
        "<a href=\"https://colab.research.google.com/github/glopez21/Data-Analytics-Foundations/blob/main/main.ipynb\" target=\"_parent\"><img src=\"https://colab.research.google.com/assets/colab-badge.svg\" alt=\"Open In Colab\"/></a>"
      ]
    },
    {
      "cell_type": "markdown",
      "metadata": {
        "collapsed": true,
        "id": "onFAMXrXH3U5"
      },
      "source": [
        "# Diabetes Analysis"
      ]
    },
    {
      "cell_type": "markdown",
      "metadata": {
        "id": "00bBsW6bImME"
      },
      "source": [
        "*We need to do some setting-up in order for some of the code to perform properly!*\n",
        "\n",
        "*Once the set up is done, we can then adapt most of the code and the environment to our purpose!*"
      ]
    },
    {
      "cell_type": "code",
      "metadata": {
        "trusted": true,
        "id": "vBQQx6XTH3VL"
      },
      "source": [
        "#-----------------------\n",
        "# most of the code set-up is done for now!\n",
        "#-----------------------"
      ],
      "execution_count": null,
      "outputs": []
    },
    {
      "cell_type": "code",
      "metadata": {
        "id": "6yZBuqRbJ4ps"
      },
      "source": [
        "import numpy as np\n",
        "import pandas as pd\n",
        "import seaborn as sns\n",
        "import matplotlib\n",
        "import matplotlib.pyplot as plt\n",
        "\n",
        "#------------------------\n",
        "\n",
        "from sklearn.model_selection import train_test_split\n",
        "from sklearn.metrics import confusion_matrix\n",
        "from sklearn.metrics import roc_curve\n",
        "from sklearn.preprocessing import StandardScaler\n",
        "from sklearn import preprocessing\n",
        "\n",
        "#------------------------\n",
        "\n",
        "from keras.models import Sequential\n",
        "from keras.layers import Dense\n",
        "\n",
        "#------------------------\n",
        "import warnings\n",
        "warnings.filterwarnings('ignore')\n",
        "\n",
        "#matplotlib.use(\"TkAgg\")\n",
        "np.random.seed(42)\n",
        "sns.set()"
      ],
      "execution_count": null,
      "outputs": []
    },
    {
      "cell_type": "code",
      "metadata": {
        "id": "ltqJaJSqJZd6"
      },
      "source": [
        "def preprocess(data):\n",
        "    print('----------------------------------------------')\n",
        "    print(\"Before preprocessing\")\n",
        "    print(\"Number of rows with 0 values for each variable\")\n",
        "    for col in data.columns:\n",
        "        missing_rows = data.loc[data[col]==0].shape[0]\n",
        "        print(col + \": \" + str(missing_rows))\n",
        "    print('----------------------------------------------')\n",
        "\n",
        "    # Replace 0 values with the mean of the existing values\n",
        "    data['Glucose'] = data['Glucose'].replace(0, np.nan)\n",
        "    data['BloodPressure'] = data['BloodPressure'].replace(0, np.nan)\n",
        "    data['SkinThickness'] = data['SkinThickness'].replace(0, np.nan)\n",
        "    data['Insulin'] = data['Insulin'].replace(0, np.nan)\n",
        "    data['BMI'] = data['BMI'].replace(0, np.nan)\n",
        "    data['Glucose'] = data['Glucose'].fillna(data['Glucose'].mean())\n",
        "    data['BloodPressure'] = data['BloodPressure'].fillna(data['BloodPressure'].mean())\n",
        "    data['SkinThickness'] = data['SkinThickness'].fillna(data['SkinThickness'].mean())\n",
        "    data['Insulin'] = data['Insulin'].fillna(data['Insulin'].mean())\n",
        "    data['BMI'] = data['BMI'].fillna(data['BMI'].mean())\n",
        "\n",
        "    print('----------------------------------------------')\n",
        "    print(\"After preprocessing\")\n",
        "    print(\"Number of rows with 0 values for each variable\")\n",
        "    for col in data.columns:\n",
        "        missing_rows = data.loc[data[col]==0].shape[0]\n",
        "        print(col + \": \" + str(missing_rows))\n",
        "    print('----------------------------------------------')\n",
        "\n",
        "    # Standardization\n",
        "    data_scaled = preprocessing.scale(data)\n",
        "    data_scaled = pd.DataFrame(data_scaled, columns=data.columns)\n",
        "    data_scaled['Outcome'] = data['Outcome']\n",
        "    data = data_scaled\n",
        "    \n",
        "\n",
        "    return data"
      ],
      "execution_count": null,
      "outputs": []
    },
    {
      "cell_type": "code",
      "metadata": {
        "trusted": true,
        "id": "D7lV5gJAH3VS"
      },
      "source": [
        "data = pd.read_csv('/content/drive/My Drive/Colab Notebooks/Projects/Diabetes Analysis/data/diabetes.csv') "
      ],
      "execution_count": null,
      "outputs": []
    },
    {
      "cell_type": "code",
      "source": [
        "data.head()"
      ],
      "metadata": {
        "colab": {
          "base_uri": "https://localhost:8080/",
          "height": 206
        },
        "id": "B0Csmd5ZX89Y",
        "outputId": "0a6001a5-41ba-4198-ec0c-69098b2d663a"
      },
      "execution_count": null,
      "outputs": [
        {
          "output_type": "execute_result",
          "data": {
            "text/plain": [
              "   Pregnancies  Glucose  BloodPressure  SkinThickness  Insulin   BMI  \\\n",
              "0            6      148             72             35        0  33.6   \n",
              "1            1       85             66             29        0  26.6   \n",
              "2            8      183             64              0        0  23.3   \n",
              "3            1       89             66             23       94  28.1   \n",
              "4            0      137             40             35      168  43.1   \n",
              "\n",
              "   DiabetesPedigreeFunction  Age  Outcome  \n",
              "0                     0.627   50        1  \n",
              "1                     0.351   31        0  \n",
              "2                     0.672   32        1  \n",
              "3                     0.167   21        0  \n",
              "4                     2.288   33        1  "
            ],
            "text/html": [
              "\n",
              "  <div id=\"df-b3c76efc-cae5-49bc-a577-89164cd63b41\">\n",
              "    <div class=\"colab-df-container\">\n",
              "      <div>\n",
              "<style scoped>\n",
              "    .dataframe tbody tr th:only-of-type {\n",
              "        vertical-align: middle;\n",
              "    }\n",
              "\n",
              "    .dataframe tbody tr th {\n",
              "        vertical-align: top;\n",
              "    }\n",
              "\n",
              "    .dataframe thead th {\n",
              "        text-align: right;\n",
              "    }\n",
              "</style>\n",
              "<table border=\"1\" class=\"dataframe\">\n",
              "  <thead>\n",
              "    <tr style=\"text-align: right;\">\n",
              "      <th></th>\n",
              "      <th>Pregnancies</th>\n",
              "      <th>Glucose</th>\n",
              "      <th>BloodPressure</th>\n",
              "      <th>SkinThickness</th>\n",
              "      <th>Insulin</th>\n",
              "      <th>BMI</th>\n",
              "      <th>DiabetesPedigreeFunction</th>\n",
              "      <th>Age</th>\n",
              "      <th>Outcome</th>\n",
              "    </tr>\n",
              "  </thead>\n",
              "  <tbody>\n",
              "    <tr>\n",
              "      <th>0</th>\n",
              "      <td>6</td>\n",
              "      <td>148</td>\n",
              "      <td>72</td>\n",
              "      <td>35</td>\n",
              "      <td>0</td>\n",
              "      <td>33.6</td>\n",
              "      <td>0.627</td>\n",
              "      <td>50</td>\n",
              "      <td>1</td>\n",
              "    </tr>\n",
              "    <tr>\n",
              "      <th>1</th>\n",
              "      <td>1</td>\n",
              "      <td>85</td>\n",
              "      <td>66</td>\n",
              "      <td>29</td>\n",
              "      <td>0</td>\n",
              "      <td>26.6</td>\n",
              "      <td>0.351</td>\n",
              "      <td>31</td>\n",
              "      <td>0</td>\n",
              "    </tr>\n",
              "    <tr>\n",
              "      <th>2</th>\n",
              "      <td>8</td>\n",
              "      <td>183</td>\n",
              "      <td>64</td>\n",
              "      <td>0</td>\n",
              "      <td>0</td>\n",
              "      <td>23.3</td>\n",
              "      <td>0.672</td>\n",
              "      <td>32</td>\n",
              "      <td>1</td>\n",
              "    </tr>\n",
              "    <tr>\n",
              "      <th>3</th>\n",
              "      <td>1</td>\n",
              "      <td>89</td>\n",
              "      <td>66</td>\n",
              "      <td>23</td>\n",
              "      <td>94</td>\n",
              "      <td>28.1</td>\n",
              "      <td>0.167</td>\n",
              "      <td>21</td>\n",
              "      <td>0</td>\n",
              "    </tr>\n",
              "    <tr>\n",
              "      <th>4</th>\n",
              "      <td>0</td>\n",
              "      <td>137</td>\n",
              "      <td>40</td>\n",
              "      <td>35</td>\n",
              "      <td>168</td>\n",
              "      <td>43.1</td>\n",
              "      <td>2.288</td>\n",
              "      <td>33</td>\n",
              "      <td>1</td>\n",
              "    </tr>\n",
              "  </tbody>\n",
              "</table>\n",
              "</div>\n",
              "      <button class=\"colab-df-convert\" onclick=\"convertToInteractive('df-b3c76efc-cae5-49bc-a577-89164cd63b41')\"\n",
              "              title=\"Convert this dataframe to an interactive table.\"\n",
              "              style=\"display:none;\">\n",
              "        \n",
              "  <svg xmlns=\"http://www.w3.org/2000/svg\" height=\"24px\"viewBox=\"0 0 24 24\"\n",
              "       width=\"24px\">\n",
              "    <path d=\"M0 0h24v24H0V0z\" fill=\"none\"/>\n",
              "    <path d=\"M18.56 5.44l.94 2.06.94-2.06 2.06-.94-2.06-.94-.94-2.06-.94 2.06-2.06.94zm-11 1L8.5 8.5l.94-2.06 2.06-.94-2.06-.94L8.5 2.5l-.94 2.06-2.06.94zm10 10l.94 2.06.94-2.06 2.06-.94-2.06-.94-.94-2.06-.94 2.06-2.06.94z\"/><path d=\"M17.41 7.96l-1.37-1.37c-.4-.4-.92-.59-1.43-.59-.52 0-1.04.2-1.43.59L10.3 9.45l-7.72 7.72c-.78.78-.78 2.05 0 2.83L4 21.41c.39.39.9.59 1.41.59.51 0 1.02-.2 1.41-.59l7.78-7.78 2.81-2.81c.8-.78.8-2.07 0-2.86zM5.41 20L4 18.59l7.72-7.72 1.47 1.35L5.41 20z\"/>\n",
              "  </svg>\n",
              "      </button>\n",
              "      \n",
              "  <style>\n",
              "    .colab-df-container {\n",
              "      display:flex;\n",
              "      flex-wrap:wrap;\n",
              "      gap: 12px;\n",
              "    }\n",
              "\n",
              "    .colab-df-convert {\n",
              "      background-color: #E8F0FE;\n",
              "      border: none;\n",
              "      border-radius: 50%;\n",
              "      cursor: pointer;\n",
              "      display: none;\n",
              "      fill: #1967D2;\n",
              "      height: 32px;\n",
              "      padding: 0 0 0 0;\n",
              "      width: 32px;\n",
              "    }\n",
              "\n",
              "    .colab-df-convert:hover {\n",
              "      background-color: #E2EBFA;\n",
              "      box-shadow: 0px 1px 2px rgba(60, 64, 67, 0.3), 0px 1px 3px 1px rgba(60, 64, 67, 0.15);\n",
              "      fill: #174EA6;\n",
              "    }\n",
              "\n",
              "    [theme=dark] .colab-df-convert {\n",
              "      background-color: #3B4455;\n",
              "      fill: #D2E3FC;\n",
              "    }\n",
              "\n",
              "    [theme=dark] .colab-df-convert:hover {\n",
              "      background-color: #434B5C;\n",
              "      box-shadow: 0px 1px 3px 1px rgba(0, 0, 0, 0.15);\n",
              "      filter: drop-shadow(0px 1px 2px rgba(0, 0, 0, 0.3));\n",
              "      fill: #FFFFFF;\n",
              "    }\n",
              "  </style>\n",
              "\n",
              "      <script>\n",
              "        const buttonEl =\n",
              "          document.querySelector('#df-b3c76efc-cae5-49bc-a577-89164cd63b41 button.colab-df-convert');\n",
              "        buttonEl.style.display =\n",
              "          google.colab.kernel.accessAllowed ? 'block' : 'none';\n",
              "\n",
              "        async function convertToInteractive(key) {\n",
              "          const element = document.querySelector('#df-b3c76efc-cae5-49bc-a577-89164cd63b41');\n",
              "          const dataTable =\n",
              "            await google.colab.kernel.invokeFunction('convertToInteractive',\n",
              "                                                     [key], {});\n",
              "          if (!dataTable) return;\n",
              "\n",
              "          const docLinkHtml = 'Like what you see? Visit the ' +\n",
              "            '<a target=\"_blank\" href=https://colab.research.google.com/notebooks/data_table.ipynb>data table notebook</a>'\n",
              "            + ' to learn more about interactive tables.';\n",
              "          element.innerHTML = '';\n",
              "          dataTable['output_type'] = 'display_data';\n",
              "          await google.colab.output.renderOutput(dataTable, element);\n",
              "          const docLink = document.createElement('div');\n",
              "          docLink.innerHTML = docLinkHtml;\n",
              "          element.appendChild(docLink);\n",
              "        }\n",
              "      </script>\n",
              "    </div>\n",
              "  </div>\n",
              "  "
            ]
          },
          "metadata": {},
          "execution_count": 6
        }
      ]
    },
    {
      "cell_type": "markdown",
      "metadata": {
        "id": "yKGk4_ZuOIBi"
      },
      "source": [
        "#### *in here we are going to Perform some preprocessing and feature engineering.*\n",
        "#### Now, according some of the reading I have done; Feature engineering refers to the process of using domain knowledge of the data in order to create features which then make machine learning algorithms work more efficiently. If this process is done correctly, it increases the predictive power of machine learning algorithms by creating features from raw data that help facilitate the machine learning process. Feature Engineering is an art."
      ]
    },
    {
      "cell_type": "markdown",
      "metadata": {
        "id": "C5OZd1IdOAci"
      },
      "source": [
        "## Preprocessing!"
      ]
    },
    {
      "cell_type": "code",
      "metadata": {
        "id": "yZHP8UisN79O",
        "outputId": "17f18266-0da9-4a0a-f9f8-7892d53db28f",
        "colab": {
          "base_uri": "https://localhost:8080/",
          "height": 454
        }
      },
      "source": [
        "data = preprocess(data)"
      ],
      "execution_count": null,
      "outputs": [
        {
          "output_type": "stream",
          "text": [
            "----------------------------------------------\n",
            "Before preprocessing\n",
            "Number of rows with 0 values for each variable\n",
            "Pregnancies: 111\n",
            "Glucose: 5\n",
            "BloodPressure: 35\n",
            "SkinThickness: 227\n",
            "Insulin: 374\n",
            "BMI: 11\n",
            "DiabetesPedigreeFunction: 0\n",
            "Age: 0\n",
            "Outcome: 500\n",
            "----------------------------------------------\n",
            "----------------------------------------------\n",
            "After preprocessing\n",
            "Number of rows with 0 values for each variable\n",
            "Pregnancies: 111\n",
            "Glucose: 0\n",
            "BloodPressure: 0\n",
            "SkinThickness: 0\n",
            "Insulin: 0\n",
            "BMI: 0\n",
            "DiabetesPedigreeFunction: 0\n",
            "Age: 0\n",
            "Outcome: 500\n",
            "----------------------------------------------\n"
          ],
          "name": "stdout"
        }
      ]
    },
    {
      "cell_type": "markdown",
      "metadata": {
        "id": "WXg6OyTNOPK7"
      },
      "source": [
        "# Feature engineering"
      ]
    },
    {
      "cell_type": "code",
      "metadata": {
        "id": "6FiXfm8IN_b6"
      },
      "source": [
        "# Split the data into a training and testing set\n",
        "X = data.loc[:, data.columns != 'Outcome']\n",
        "y = data.loc[:, 'Outcome']\n",
        "X_train, X_test, y_train, y_test = train_test_split(X, y, test_size=0.2)"
      ],
      "execution_count": null,
      "outputs": []
    },
    {
      "cell_type": "markdown",
      "metadata": {
        "id": "1NXkNEgPOvik"
      },
      "source": [
        "### Let's build neural networks using Keras"
      ]
    },
    {
      "cell_type": "code",
      "metadata": {
        "trusted": true,
        "id": "cZ0PmceJH3Vc",
        "outputId": "2af8dfa6-91e7-4512-9e5a-2c2c62c7c8a0",
        "colab": {
          "base_uri": "https://localhost:8080/",
          "height": 34
        }
      },
      "source": [
        "\n",
        "model = Sequential()\n",
        "model.add(Dense(32, activation='relu', input_dim=8))\n",
        "model.add(Dense(16, activation='relu'))\n",
        "model.add(Dense(1, activation='sigmoid'))\n",
        "model.compile(optimizer='adam', loss='binary_crossentropy', metrics=['accuracy'])\n",
        "model.fit(X_train, y_train, epochs=200, verbose=False)\n"
      ],
      "execution_count": null,
      "outputs": [
        {
          "output_type": "execute_result",
          "data": {
            "text/plain": [
              "<keras.callbacks.History at 0x7f8fb5901278>"
            ]
          },
          "metadata": {
            "tags": []
          },
          "execution_count": 44
        }
      ]
    },
    {
      "cell_type": "markdown",
      "metadata": {
        "id": "lrCWfmseOwza"
      },
      "source": [
        "### Understanding the accuracy of the results"
      ]
    },
    {
      "cell_type": "code",
      "metadata": {
        "trusted": true,
        "id": "SSLjiHE8H3Vf",
        "outputId": "17a9be71-2d87-4342-b507-b303912ea08a",
        "colab": {
          "base_uri": "https://localhost:8080/",
          "height": 84
        }
      },
      "source": [
        "scores = model.evaluate(X_train, y_train, verbose=False)\n",
        "print(\"Training Accuracy: %.2f%%\\n\" % (scores[1]*100))\n",
        "scores = model.evaluate(X_test, y_test, verbose=False)\n",
        "print(\"Testing Accuracy: %.2f%%\\n\" % (scores[1]*100))\n"
      ],
      "execution_count": null,
      "outputs": [
        {
          "output_type": "stream",
          "text": [
            "Training Accuracy: 91.21%\n",
            "\n",
            "Testing Accuracy: 68.83%\n",
            "\n"
          ],
          "name": "stdout"
        }
      ]
    },
    {
      "cell_type": "markdown",
      "metadata": {
        "id": "3wPdpK6TOxo6"
      },
      "source": [
        "### Plotting the results with Confusion Matrix"
      ]
    },
    {
      "cell_type": "code",
      "metadata": {
        "trusted": true,
        "id": "9plGn_9nH3Vh",
        "outputId": "64f292f5-5f17-439e-ee0c-9822d2f5f1ea",
        "colab": {
          "base_uri": "https://localhost:8080/",
          "height": 302
        }
      },
      "source": [
        "y_test_pred = model.predict_classes(X_test)\n",
        "c_matrix = confusion_matrix(y_test, y_test_pred)\n",
        "ax = sns.heatmap(c_matrix, annot=True, xticklabels=['No Diabetes', 'Diabetes'], yticklabels=['No Diabetes', 'Diabetes'], cbar=False, cmap='Pastel2')#YlOrRd\n",
        "ax.set_xlabel(\"Prediction\")\n",
        "ax.set_ylabel(\"Actual\")\n",
        "plt.show()\n",
        "plt.clf()"
      ],
      "execution_count": null,
      "outputs": [
        {
          "output_type": "display_data",
          "data": {
            "image/png": "[encoded data removed]",
            "text/plain": [
              "<Figure size 432x288 with 1 Axes>"
            ]
          },
          "metadata": {
            "tags": []
          }
        },
        {
          "output_type": "display_data",
          "data": {
            "text/plain": [
              "<Figure size 432x288 with 0 Axes>"
            ]
          },
          "metadata": {
            "tags": []
          }
        }
      ]
    },
    {
      "cell_type": "markdown",
      "metadata": {
        "id": "PjaWiiJaPCzD"
      },
      "source": [
        "### Plotting the results using ROC Curve"
      ]
    },
    {
      "cell_type": "code",
      "metadata": {
        "trusted": true,
        "id": "QlNYgDKCH3Vj",
        "outputId": "df76b902-10e2-45e3-9b12-962d11282e7e",
        "colab": {
          "base_uri": "https://localhost:8080/",
          "height": 318
        }
      },
      "source": [
        "y_test_pred_probs = model.predict(X_test)\n",
        "FPR, TPR, _ = roc_curve(y_test, y_test_pred_probs)\n",
        "plt.plot(FPR, TPR)\n",
        "plt.plot([0,1],[0,1],'--', color='black') #diagonal line\n",
        "plt.title('ROC Curve')\n",
        "plt.xlabel('False Positive Rate')\n",
        "plt.ylabel('True Positive Rate')\n",
        "plt.show()\n",
        "plt.clf()"
      ],
      "execution_count": null,
      "outputs": [
        {
          "output_type": "display_data",
          "data": {
            "image/png": "[encoded data removed]",
            "text/plain": [
              "<Figure size 432x288 with 1 Axes>"
            ]
          },
          "metadata": {
            "tags": []
          }
        },
        {
          "output_type": "display_data",
          "data": {
            "text/plain": [
              "<Figure size 432x288 with 0 Axes>"
            ]
          },
          "metadata": {
            "tags": []
          }
        }
      ]
    },
    {
      "cell_type": "markdown",
      "metadata": {
        "id": "9S_2pFUgU1tA"
      },
      "source": [
        "*More visualizations*"
      ]
    },
    {
      "cell_type": "code",
      "metadata": {
        "trusted": true,
        "id": "wTUBIKaEH3Vl"
      },
      "source": [
        "# # show density plot\n",
        "# # create a subplot of 3 x 3\n",
        "#plt.subplots(data,figsize=(20,20))\n",
        "\n",
        "# # show histogram\n",
        "# data.hist()\n",
        "# plt.tight_layout()\n",
        "# plt.show()\n",
        "#sns.distplot(data, kde=False, color=\"b\", ax=axes[3, 3])\n",
        "#sns.pairplot(data)#, #hue='insulin' "
      ],
      "execution_count": null,
      "outputs": []
    },
    {
      "cell_type": "code",
      "metadata": {
        "id": "jGkc2oFy9KOq"
      },
      "source": [
        "# sns.distplot(d, kde=False, color=\"b\", ax=axes[0, 0])\n",
        "\n",
        "# # Plot a kernel density estimate and rug plot\n",
        "# sns.distplot(d, hist=False, rug=True, color=\"r\", ax=axes[0, 1])\n",
        "\n",
        "# # Plot a filled kernel density estimate\n",
        "# sns.distplot(d, hist=False, color=\"g\", kde_kws={\"shade\": True}, ax=axes[1, 0])\n",
        "\n",
        "# # Plot a histogram and kernel density estimate\n",
        "# sns.distplot(d, color=\"m\", ax=axes[1, 1])\n",
        "\n",
        "# plt.setp(axes, yticks=[])\n",
        "# plt.tight_layout()"
      ],
      "execution_count": null,
      "outputs": []
    },
    {
      "cell_type": "code",
      "metadata": {
        "id": "leTW6k4ZU5Ae"
      },
      "source": [],
      "execution_count": null,
      "outputs": []
    },
    {
      "cell_type": "code",
      "metadata": {
        "id": "DBEeGKH1Vcmf",
        "outputId": "ff430c19-546f-4e5f-88af-405d603cfb47",
        "colab": {
          "base_uri": "https://localhost:8080/",
          "height": 284
        }
      },
      "source": [
        "# Plot a density plot for each variable\n",
        "\n",
        "for idx, col in enumerate(data.columns):\n",
        "    ax = plt.subplot(3,3,idx+1,)\n",
        "    ax.yaxis.set_ticklabels([])\n",
        "    sns.distplot(data.loc[data.Outcome == 0][col], hist=False, axlabel= False, kde_kws={'linestyle':'-', 'color':'black', 'label':\"No Diabetes\"})\n",
        "    sns.distplot(data.loc[data.Outcome == 1][col], hist=False, axlabel= False, kde_kws={'linestyle':'--', 'color':'black', 'label':\"Diabetes\"})\n",
        "    ax.set_title(col)"
      ],
      "execution_count": null,
      "outputs": [
        {
          "output_type": "display_data",
          "data": {
            "image/png": "[encoded data removed]",
            "text/plain": [
              "<Figure size 432x288 with 9 Axes>"
            ]
          },
          "metadata": {
            "tags": []
          }
        }
      ]
    },
    {
      "cell_type": "code",
      "metadata": {
        "id": "YYo2D-Z8Vfpm",
        "outputId": "abbb194f-6b53-4599-888b-92ebfeca66c2",
        "colab": {
          "base_uri": "https://localhost:8080/",
          "height": 319
        }
      },
      "source": [
        "# Hide the 9th subplot (bottom right) since there are only 8 plots\n",
        "# plt.subplot(3,3,9).set_visible(False)\n",
        "# plt.tight_layout()\n",
        "# plt.show()\n"
      ],
      "execution_count": null,
      "outputs": [
        {
          "output_type": "display_data",
          "data": {
            "image/png": "[encoded data removed]",
            "text/plain": [
              "<Figure size 432x288 with 1 Axes>"
            ]
          },
          "metadata": {
            "tags": []
          }
        }
      ]
    },
    {
      "cell_type": "code",
      "metadata": {
        "id": "0pIVAxYGV4K0"
      },
      "source": [],
      "execution_count": null,
      "outputs": []
    }
  ]
}